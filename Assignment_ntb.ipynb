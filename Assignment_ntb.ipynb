{
 "cells": [
  {
   "cell_type": "markdown",
   "id": "5759d88f",
   "metadata": {},
   "source": [
    "# Machine Learning Technologies Assignment"
   ]
  },
  {
   "cell_type": "markdown",
   "id": "4951e53e",
   "metadata": {},
   "source": [
    "### Import Libraries"
   ]
  },
  {
   "cell_type": "code",
   "execution_count": 1,
   "id": "cdb8125d",
   "metadata": {},
   "outputs": [],
   "source": [
    "import numpy as np\n",
    "import nltk\n",
    "import string\n",
    "import re\n",
    "from dateutil.parser import parse\n",
    "\n",
    "import matplotlib.pyplot as plt\n",
    "\n",
    "import pandas as pd\n",
    "pd.set_option('display.max_colwidth', 100)\n",
    "\n",
    "import spacy\n",
    "\n",
    "import warnings\n",
    "warnings.filterwarnings(\"ignore\", category=DeprecationWarning)\n",
    "\n",
    "##Model Library"
   ]
  },
  {
   "cell_type": "markdown",
   "id": "85e15004",
   "metadata": {},
   "source": [
    "### Variable Initialization"
   ]
  },
  {
   "cell_type": "code",
   "execution_count": null,
   "id": "d5d95e14",
   "metadata": {},
   "outputs": [],
   "source": []
  },
  {
   "cell_type": "markdown",
   "id": "dd8b6575",
   "metadata": {},
   "source": [
    "### Load Data"
   ]
  },
  {
   "cell_type": "code",
   "execution_count": 24,
   "id": "eebe8101",
   "metadata": {},
   "outputs": [
    {
     "name": "stdout",
     "output_type": "stream",
     "text": [
      "<class 'pandas.core.frame.DataFrame'>\n",
      "RangeIndex: 14483 entries, 1 to 14483\n",
      "Data columns (total 7 columns):\n",
      " #   Column      Non-Null Count  Dtype \n",
      "---  ------      --------------  ----- \n",
      " 0   tweetId     14483 non-null  object\n",
      " 1   tweetText   14483 non-null  object\n",
      " 2   userId      14483 non-null  object\n",
      " 3   imageId(s)  14483 non-null  object\n",
      " 4   username    14483 non-null  object\n",
      " 5   timestamp   14483 non-null  object\n",
      " 6   label       14483 non-null  object\n",
      "dtypes: object(7)\n",
      "memory usage: 792.2+ KB\n"
     ]
    }
   ],
   "source": [
    "f = open('Dataset/mediaeval-2015-trainingset.txt', encoding = \"ISO-8859-1\").read().split('\\n')\n",
    "cols = f[0].split('\\t')\n",
    "f_data = []\n",
    "for tweet in f:\n",
    "    t = tweet.split('\\t')\n",
    "    f_data.append(t)\n",
    "raw_df = pd.DataFrame(f_data, columns=cols)\n",
    "raw_df = raw_df.iloc[1:]\n",
    "raw_df.info()"
   ]
  },
  {
   "cell_type": "code",
   "execution_count": 25,
   "id": "2bf112d6",
   "metadata": {},
   "outputs": [
    {
     "data": {
      "text/html": [
       "<div>\n",
       "<style scoped>\n",
       "    .dataframe tbody tr th:only-of-type {\n",
       "        vertical-align: middle;\n",
       "    }\n",
       "\n",
       "    .dataframe tbody tr th {\n",
       "        vertical-align: top;\n",
       "    }\n",
       "\n",
       "    .dataframe thead th {\n",
       "        text-align: right;\n",
       "    }\n",
       "</style>\n",
       "<table border=\"1\" class=\"dataframe\">\n",
       "  <thead>\n",
       "    <tr style=\"text-align: right;\">\n",
       "      <th></th>\n",
       "      <th>tweetId</th>\n",
       "      <th>tweetText</th>\n",
       "      <th>userId</th>\n",
       "      <th>imageId(s)</th>\n",
       "      <th>username</th>\n",
       "      <th>timestamp</th>\n",
       "      <th>label</th>\n",
       "    </tr>\n",
       "  </thead>\n",
       "  <tbody>\n",
       "    <tr>\n",
       "      <th>1</th>\n",
       "      <td>263046056240115712</td>\n",
       "      <td>Â¿Se acuerdan de la pelÃ­cula: âEl dÃ­a despuÃ©s de maÃ±anaâ? Me recuerda a lo que estÃ¡ pas...</td>\n",
       "      <td>21226711</td>\n",
       "      <td>sandyA_fake_46</td>\n",
       "      <td>iAnnieM</td>\n",
       "      <td>Mon Oct 29 22:34:01 +0000 2012</td>\n",
       "      <td>fake</td>\n",
       "    </tr>\n",
       "    <tr>\n",
       "      <th>2</th>\n",
       "      <td>262995061304852481</td>\n",
       "      <td>@milenagimon: Miren a Sandy en NY!  Tremenda imagen del huracÃ¡n. Parece el \"DÃ­a de la Independ...</td>\n",
       "      <td>192378571</td>\n",
       "      <td>sandyA_fake_09</td>\n",
       "      <td>CarlosVerareal</td>\n",
       "      <td>Mon Oct 29 19:11:23 +0000 2012</td>\n",
       "      <td>fake</td>\n",
       "    </tr>\n",
       "    <tr>\n",
       "      <th>3</th>\n",
       "      <td>262979898002534400</td>\n",
       "      <td>Buena la foto del HuracÃ¡n Sandy, me recuerda a la pelÃ­cula DÃ­a de la Independencia #ID4 #Sand...</td>\n",
       "      <td>132303095</td>\n",
       "      <td>sandyA_fake_09</td>\n",
       "      <td>LucasPalape</td>\n",
       "      <td>Mon Oct 29 18:11:08 +0000 2012</td>\n",
       "      <td>fake</td>\n",
       "    </tr>\n",
       "    <tr>\n",
       "      <th>4</th>\n",
       "      <td>262996108400271360</td>\n",
       "      <td>Scary shit #hurricane #NY http://t.co/e4JLBUfH</td>\n",
       "      <td>241995902</td>\n",
       "      <td>sandyA_fake_29</td>\n",
       "      <td>Haaaaarryyy</td>\n",
       "      <td>Mon Oct 29 19:15:33 +0000 2012</td>\n",
       "      <td>fake</td>\n",
       "    </tr>\n",
       "    <tr>\n",
       "      <th>5</th>\n",
       "      <td>263018881839411200</td>\n",
       "      <td>My fave place in the world #nyc #hurricane #sandy #statueofliberty ð½ http://t.co/Ex61doZk</td>\n",
       "      <td>250315890</td>\n",
       "      <td>sandyA_fake_15</td>\n",
       "      <td>princess__natt</td>\n",
       "      <td>Mon Oct 29 20:46:02 +0000 2012</td>\n",
       "      <td>fake</td>\n",
       "    </tr>\n",
       "  </tbody>\n",
       "</table>\n",
       "</div>"
      ],
      "text/plain": [
       "              tweetId  \\\n",
       "1  263046056240115712   \n",
       "2  262995061304852481   \n",
       "3  262979898002534400   \n",
       "4  262996108400271360   \n",
       "5  263018881839411200   \n",
       "\n",
       "                                                                                             tweetText  \\\n",
       "1  Â¿Se acuerdan de la pelÃ­cula: âEl dÃ­a despuÃ©s de maÃ±anaâ? Me recuerda a lo que estÃ¡ pas...   \n",
       "2  @milenagimon: Miren a Sandy en NY!  Tremenda imagen del huracÃ¡n. Parece el \"DÃ­a de la Independ...   \n",
       "3  Buena la foto del HuracÃ¡n Sandy, me recuerda a la pelÃ­cula DÃ­a de la Independencia #ID4 #Sand...   \n",
       "4                                                       Scary shit #hurricane #NY http://t.co/e4JLBUfH   \n",
       "5         My fave place in the world #nyc #hurricane #sandy #statueofliberty ð½ http://t.co/Ex61doZk   \n",
       "\n",
       "      userId      imageId(s)        username                       timestamp  \\\n",
       "1   21226711  sandyA_fake_46         iAnnieM  Mon Oct 29 22:34:01 +0000 2012   \n",
       "2  192378571  sandyA_fake_09  CarlosVerareal  Mon Oct 29 19:11:23 +0000 2012   \n",
       "3  132303095  sandyA_fake_09     LucasPalape  Mon Oct 29 18:11:08 +0000 2012   \n",
       "4  241995902  sandyA_fake_29     Haaaaarryyy  Mon Oct 29 19:15:33 +0000 2012   \n",
       "5  250315890  sandyA_fake_15  princess__natt  Mon Oct 29 20:46:02 +0000 2012   \n",
       "\n",
       "  label  \n",
       "1  fake  \n",
       "2  fake  \n",
       "3  fake  \n",
       "4  fake  \n",
       "5  fake  "
      ]
     },
     "execution_count": 25,
     "metadata": {},
     "output_type": "execute_result"
    }
   ],
   "source": [
    "raw_df.head()"
   ]
  },
  {
   "cell_type": "markdown",
   "id": "6c15e7df",
   "metadata": {},
   "source": [
    "### Extract features from timestamp"
   ]
  },
  {
   "cell_type": "code",
   "execution_count": null,
   "id": "6844285c",
   "metadata": {},
   "outputs": [],
   "source": [
    "raw_df['timestamp'] = raw_df['timestamp']."
   ]
  }
 ],
 "metadata": {
  "kernelspec": {
   "display_name": "Python 3",
   "language": "python",
   "name": "python3"
  },
  "language_info": {
   "codemirror_mode": {
    "name": "ipython",
    "version": 3
   },
   "file_extension": ".py",
   "mimetype": "text/x-python",
   "name": "python",
   "nbconvert_exporter": "python",
   "pygments_lexer": "ipython3",
   "version": "3.6.13"
  }
 },
 "nbformat": 4,
 "nbformat_minor": 5
}
