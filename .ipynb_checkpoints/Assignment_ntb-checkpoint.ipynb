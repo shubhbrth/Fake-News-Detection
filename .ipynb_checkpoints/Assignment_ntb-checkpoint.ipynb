{
 "cells": [
  {
   "cell_type": "markdown",
   "id": "b6eec4e0",
   "metadata": {},
   "source": [
    "# Machine Learning Technologies Assignment"
   ]
  },
  {
   "cell_type": "markdown",
   "id": "0da60aa4",
   "metadata": {},
   "source": [
    "### Import Libraries"
   ]
  },
  {
   "cell_type": "code",
   "execution_count": 19,
   "id": "4d9b240f",
   "metadata": {},
   "outputs": [],
   "source": [
    "import numpy as np\n",
    "import nltk\n",
    "import string\n",
    "import re\n",
    "from datetime import datetime\n",
    "\n",
    "\n",
    "import matplotlib.pyplot as plt\n",
    "\n",
    "import pandas as pd\n",
    "pd.set_option('display.max_colwidth', 100)\n",
    "\n",
    "import spacy\n",
    "\n",
    "import warnings\n",
    "warnings.filterwarnings(\"ignore\", category=DeprecationWarning)\n",
    "# from googletrans import Translator\n",
    "from google_trans_new import google_translator  \n",
    "\n",
    "\n",
    "##Model Library"
   ]
  },
  {
   "cell_type": "markdown",
   "id": "0765f34f",
   "metadata": {},
   "source": [
    "### Variable Initialization"
   ]
  },
  {
   "cell_type": "code",
   "execution_count": null,
   "id": "594de887",
   "metadata": {},
   "outputs": [],
   "source": []
  },
  {
   "cell_type": "markdown",
   "id": "c650fd83",
   "metadata": {},
   "source": [
    "### Load Data"
   ]
  },
  {
   "cell_type": "code",
   "execution_count": 20,
   "id": "f0b9ec05",
   "metadata": {},
   "outputs": [
    {
     "name": "stdout",
     "output_type": "stream",
     "text": [
      "<class 'pandas.core.frame.DataFrame'>\n",
      "RangeIndex: 14483 entries, 1 to 14483\n",
      "Data columns (total 7 columns):\n",
      " #   Column      Non-Null Count  Dtype \n",
      "---  ------      --------------  ----- \n",
      " 0   tweetId     14483 non-null  object\n",
      " 1   tweetText   14483 non-null  object\n",
      " 2   userId      14483 non-null  object\n",
      " 3   imageId(s)  14483 non-null  object\n",
      " 4   username    14483 non-null  object\n",
      " 5   timestamp   14483 non-null  object\n",
      " 6   label       14483 non-null  object\n",
      "dtypes: object(7)\n",
      "memory usage: 792.2+ KB\n"
     ]
    }
   ],
   "source": [
    "f = open('Dataset/mediaeval-2015-trainingset.txt', encoding = \"UTF-8\").read().split('\\n')\n",
    "cols = f[0].split('\\t')\n",
    "f_data = []\n",
    "for tweet in f:\n",
    "    t = tweet.split('\\t')\n",
    "    f_data.append(t)\n",
    "raw_df = pd.DataFrame(f_data, columns=cols)\n",
    "raw_df = raw_df.iloc[1:]\n",
    "raw_df.info()"
   ]
  },
  {
   "cell_type": "code",
   "execution_count": 21,
   "id": "b3c8dd07",
   "metadata": {},
   "outputs": [
    {
     "data": {
      "text/html": [
       "<div>\n",
       "<style scoped>\n",
       "    .dataframe tbody tr th:only-of-type {\n",
       "        vertical-align: middle;\n",
       "    }\n",
       "\n",
       "    .dataframe tbody tr th {\n",
       "        vertical-align: top;\n",
       "    }\n",
       "\n",
       "    .dataframe thead th {\n",
       "        text-align: right;\n",
       "    }\n",
       "</style>\n",
       "<table border=\"1\" class=\"dataframe\">\n",
       "  <thead>\n",
       "    <tr style=\"text-align: right;\">\n",
       "      <th></th>\n",
       "      <th>tweetId</th>\n",
       "      <th>tweetText</th>\n",
       "      <th>userId</th>\n",
       "      <th>imageId(s)</th>\n",
       "      <th>username</th>\n",
       "      <th>timestamp</th>\n",
       "      <th>label</th>\n",
       "    </tr>\n",
       "  </thead>\n",
       "  <tbody>\n",
       "    <tr>\n",
       "      <th>1</th>\n",
       "      <td>263046056240115712</td>\n",
       "      <td>¿Se acuerdan de la película: “El día después de mañana”? Me recuerda a lo que está pasando con e...</td>\n",
       "      <td>21226711</td>\n",
       "      <td>sandyA_fake_46</td>\n",
       "      <td>iAnnieM</td>\n",
       "      <td>Mon Oct 29 22:34:01 +0000 2012</td>\n",
       "      <td>fake</td>\n",
       "    </tr>\n",
       "    <tr>\n",
       "      <th>2</th>\n",
       "      <td>262995061304852481</td>\n",
       "      <td>@milenagimon: Miren a Sandy en NY!  Tremenda imagen del huracán. Parece el \"Día de la Independen...</td>\n",
       "      <td>192378571</td>\n",
       "      <td>sandyA_fake_09</td>\n",
       "      <td>CarlosVerareal</td>\n",
       "      <td>Mon Oct 29 19:11:23 +0000 2012</td>\n",
       "      <td>fake</td>\n",
       "    </tr>\n",
       "    <tr>\n",
       "      <th>3</th>\n",
       "      <td>262979898002534400</td>\n",
       "      <td>Buena la foto del Huracán Sandy, me recuerda a la película Día de la Independencia #ID4 #Sandy  ...</td>\n",
       "      <td>132303095</td>\n",
       "      <td>sandyA_fake_09</td>\n",
       "      <td>LucasPalape</td>\n",
       "      <td>Mon Oct 29 18:11:08 +0000 2012</td>\n",
       "      <td>fake</td>\n",
       "    </tr>\n",
       "    <tr>\n",
       "      <th>4</th>\n",
       "      <td>262996108400271360</td>\n",
       "      <td>Scary shit #hurricane #NY http://t.co/e4JLBUfH</td>\n",
       "      <td>241995902</td>\n",
       "      <td>sandyA_fake_29</td>\n",
       "      <td>Haaaaarryyy</td>\n",
       "      <td>Mon Oct 29 19:15:33 +0000 2012</td>\n",
       "      <td>fake</td>\n",
       "    </tr>\n",
       "    <tr>\n",
       "      <th>5</th>\n",
       "      <td>263018881839411200</td>\n",
       "      <td>My fave place in the world #nyc #hurricane #sandy #statueofliberty 🗽 http://t.co/Ex61doZk</td>\n",
       "      <td>250315890</td>\n",
       "      <td>sandyA_fake_15</td>\n",
       "      <td>princess__natt</td>\n",
       "      <td>Mon Oct 29 20:46:02 +0000 2012</td>\n",
       "      <td>fake</td>\n",
       "    </tr>\n",
       "  </tbody>\n",
       "</table>\n",
       "</div>"
      ],
      "text/plain": [
       "              tweetId  \\\n",
       "1  263046056240115712   \n",
       "2  262995061304852481   \n",
       "3  262979898002534400   \n",
       "4  262996108400271360   \n",
       "5  263018881839411200   \n",
       "\n",
       "                                                                                             tweetText  \\\n",
       "1  ¿Se acuerdan de la película: “El día después de mañana”? Me recuerda a lo que está pasando con e...   \n",
       "2  @milenagimon: Miren a Sandy en NY!  Tremenda imagen del huracán. Parece el \"Día de la Independen...   \n",
       "3  Buena la foto del Huracán Sandy, me recuerda a la película Día de la Independencia #ID4 #Sandy  ...   \n",
       "4                                                       Scary shit #hurricane #NY http://t.co/e4JLBUfH   \n",
       "5            My fave place in the world #nyc #hurricane #sandy #statueofliberty 🗽 http://t.co/Ex61doZk   \n",
       "\n",
       "      userId      imageId(s)        username                       timestamp  \\\n",
       "1   21226711  sandyA_fake_46         iAnnieM  Mon Oct 29 22:34:01 +0000 2012   \n",
       "2  192378571  sandyA_fake_09  CarlosVerareal  Mon Oct 29 19:11:23 +0000 2012   \n",
       "3  132303095  sandyA_fake_09     LucasPalape  Mon Oct 29 18:11:08 +0000 2012   \n",
       "4  241995902  sandyA_fake_29     Haaaaarryyy  Mon Oct 29 19:15:33 +0000 2012   \n",
       "5  250315890  sandyA_fake_15  princess__natt  Mon Oct 29 20:46:02 +0000 2012   \n",
       "\n",
       "  label  \n",
       "1  fake  \n",
       "2  fake  \n",
       "3  fake  \n",
       "4  fake  \n",
       "5  fake  "
      ]
     },
     "execution_count": 21,
     "metadata": {},
     "output_type": "execute_result"
    }
   ],
   "source": [
    "raw_df.head()"
   ]
  },
  {
   "cell_type": "markdown",
   "id": "51e003bd",
   "metadata": {},
   "source": [
    "### Extract features from timestamp"
   ]
  },
  {
   "cell_type": "code",
   "execution_count": 22,
   "id": "a908c91f",
   "metadata": {},
   "outputs": [],
   "source": [
    "# remove typo from timestamp\n",
    "df = raw_df.copy()\n",
    "df['timestamp'] = df['timestamp'].apply(lambda x: re.sub(': ',':',x))\n",
    "df['timestamp'] = pd.to_datetime(df['timestamp'])"
   ]
  },
  {
   "cell_type": "code",
   "execution_count": 23,
   "id": "0d25b3ee",
   "metadata": {},
   "outputs": [
    {
     "name": "stderr",
     "output_type": "stream",
     "text": [
      "C:\\ProgramData\\Anaconda3\\envs\\mlt\\lib\\site-packages\\ipykernel_launcher.py:5: FutureWarning: Series.dt.weekofyear and Series.dt.week have been deprecated.  Please use Series.dt.isocalendar().week instead.\n",
      "  \"\"\"\n"
     ]
    }
   ],
   "source": [
    "df[\"DayOfMonth\"] = df[\"timestamp\"].dt.day\n",
    "df[\"DayOfYear\"] = df[\"timestamp\"].dt.dayofyear\n",
    "df[\"Month\"] = df[\"timestamp\"].dt.month\n",
    "df['Quarter'] = df['timestamp'].dt.quarter\n",
    "df['WeekOfYear'] = df['timestamp'].dt.weekofyear\n",
    "df[\"Year\"] = df[\"timestamp\"].dt.year\n",
    "df = df.drop([\"timestamp\"],axis=1)"
   ]
  },
  {
   "cell_type": "code",
   "execution_count": 24,
   "id": "5f2f8631",
   "metadata": {},
   "outputs": [
    {
     "name": "stdout",
     "output_type": "stream",
     "text": [
      "<class 'pandas.core.frame.DataFrame'>\n",
      "RangeIndex: 14483 entries, 1 to 14483\n",
      "Data columns (total 12 columns):\n",
      " #   Column      Non-Null Count  Dtype \n",
      "---  ------      --------------  ----- \n",
      " 0   tweetId     14483 non-null  object\n",
      " 1   tweetText   14483 non-null  object\n",
      " 2   userId      14483 non-null  object\n",
      " 3   imageId(s)  14483 non-null  object\n",
      " 4   username    14483 non-null  object\n",
      " 5   label       14483 non-null  object\n",
      " 6   DayOfMonth  14483 non-null  int64 \n",
      " 7   DayOfYear   14483 non-null  int64 \n",
      " 8   Month       14483 non-null  int64 \n",
      " 9   Quarter     14483 non-null  int64 \n",
      " 10  WeekOfYear  14483 non-null  int64 \n",
      " 11  Year        14483 non-null  int64 \n",
      "dtypes: int64(6), object(6)\n",
      "memory usage: 1.3+ MB\n"
     ]
    }
   ],
   "source": [
    "df.info()"
   ]
  },
  {
   "cell_type": "code",
   "execution_count": 25,
   "id": "71d9601a",
   "metadata": {},
   "outputs": [
    {
     "data": {
      "text/html": [
       "<div>\n",
       "<style scoped>\n",
       "    .dataframe tbody tr th:only-of-type {\n",
       "        vertical-align: middle;\n",
       "    }\n",
       "\n",
       "    .dataframe tbody tr th {\n",
       "        vertical-align: top;\n",
       "    }\n",
       "\n",
       "    .dataframe thead th {\n",
       "        text-align: right;\n",
       "    }\n",
       "</style>\n",
       "<table border=\"1\" class=\"dataframe\">\n",
       "  <thead>\n",
       "    <tr style=\"text-align: right;\">\n",
       "      <th></th>\n",
       "      <th>tweetId</th>\n",
       "      <th>tweetText</th>\n",
       "      <th>userId</th>\n",
       "      <th>imageId(s)</th>\n",
       "      <th>username</th>\n",
       "      <th>label</th>\n",
       "      <th>DayOfMonth</th>\n",
       "      <th>DayOfYear</th>\n",
       "      <th>Month</th>\n",
       "      <th>Quarter</th>\n",
       "      <th>WeekOfYear</th>\n",
       "      <th>Year</th>\n",
       "    </tr>\n",
       "  </thead>\n",
       "  <tbody>\n",
       "    <tr>\n",
       "      <th>1</th>\n",
       "      <td>263046056240115712</td>\n",
       "      <td>¿Se acuerdan de la película: “El día después de mañana”? Me recuerda a lo que está pasando con e...</td>\n",
       "      <td>21226711</td>\n",
       "      <td>sandyA_fake_46</td>\n",
       "      <td>iAnnieM</td>\n",
       "      <td>fake</td>\n",
       "      <td>29</td>\n",
       "      <td>303</td>\n",
       "      <td>10</td>\n",
       "      <td>4</td>\n",
       "      <td>44</td>\n",
       "      <td>2012</td>\n",
       "    </tr>\n",
       "    <tr>\n",
       "      <th>2</th>\n",
       "      <td>262995061304852481</td>\n",
       "      <td>@milenagimon: Miren a Sandy en NY!  Tremenda imagen del huracán. Parece el \"Día de la Independen...</td>\n",
       "      <td>192378571</td>\n",
       "      <td>sandyA_fake_09</td>\n",
       "      <td>CarlosVerareal</td>\n",
       "      <td>fake</td>\n",
       "      <td>29</td>\n",
       "      <td>303</td>\n",
       "      <td>10</td>\n",
       "      <td>4</td>\n",
       "      <td>44</td>\n",
       "      <td>2012</td>\n",
       "    </tr>\n",
       "    <tr>\n",
       "      <th>3</th>\n",
       "      <td>262979898002534400</td>\n",
       "      <td>Buena la foto del Huracán Sandy, me recuerda a la película Día de la Independencia #ID4 #Sandy  ...</td>\n",
       "      <td>132303095</td>\n",
       "      <td>sandyA_fake_09</td>\n",
       "      <td>LucasPalape</td>\n",
       "      <td>fake</td>\n",
       "      <td>29</td>\n",
       "      <td>303</td>\n",
       "      <td>10</td>\n",
       "      <td>4</td>\n",
       "      <td>44</td>\n",
       "      <td>2012</td>\n",
       "    </tr>\n",
       "    <tr>\n",
       "      <th>4</th>\n",
       "      <td>262996108400271360</td>\n",
       "      <td>Scary shit #hurricane #NY http://t.co/e4JLBUfH</td>\n",
       "      <td>241995902</td>\n",
       "      <td>sandyA_fake_29</td>\n",
       "      <td>Haaaaarryyy</td>\n",
       "      <td>fake</td>\n",
       "      <td>29</td>\n",
       "      <td>303</td>\n",
       "      <td>10</td>\n",
       "      <td>4</td>\n",
       "      <td>44</td>\n",
       "      <td>2012</td>\n",
       "    </tr>\n",
       "    <tr>\n",
       "      <th>5</th>\n",
       "      <td>263018881839411200</td>\n",
       "      <td>My fave place in the world #nyc #hurricane #sandy #statueofliberty 🗽 http://t.co/Ex61doZk</td>\n",
       "      <td>250315890</td>\n",
       "      <td>sandyA_fake_15</td>\n",
       "      <td>princess__natt</td>\n",
       "      <td>fake</td>\n",
       "      <td>29</td>\n",
       "      <td>303</td>\n",
       "      <td>10</td>\n",
       "      <td>4</td>\n",
       "      <td>44</td>\n",
       "      <td>2012</td>\n",
       "    </tr>\n",
       "  </tbody>\n",
       "</table>\n",
       "</div>"
      ],
      "text/plain": [
       "              tweetId  \\\n",
       "1  263046056240115712   \n",
       "2  262995061304852481   \n",
       "3  262979898002534400   \n",
       "4  262996108400271360   \n",
       "5  263018881839411200   \n",
       "\n",
       "                                                                                             tweetText  \\\n",
       "1  ¿Se acuerdan de la película: “El día después de mañana”? Me recuerda a lo que está pasando con e...   \n",
       "2  @milenagimon: Miren a Sandy en NY!  Tremenda imagen del huracán. Parece el \"Día de la Independen...   \n",
       "3  Buena la foto del Huracán Sandy, me recuerda a la película Día de la Independencia #ID4 #Sandy  ...   \n",
       "4                                                       Scary shit #hurricane #NY http://t.co/e4JLBUfH   \n",
       "5            My fave place in the world #nyc #hurricane #sandy #statueofliberty 🗽 http://t.co/Ex61doZk   \n",
       "\n",
       "      userId      imageId(s)        username label  DayOfMonth  DayOfYear  \\\n",
       "1   21226711  sandyA_fake_46         iAnnieM  fake          29        303   \n",
       "2  192378571  sandyA_fake_09  CarlosVerareal  fake          29        303   \n",
       "3  132303095  sandyA_fake_09     LucasPalape  fake          29        303   \n",
       "4  241995902  sandyA_fake_29     Haaaaarryyy  fake          29        303   \n",
       "5  250315890  sandyA_fake_15  princess__natt  fake          29        303   \n",
       "\n",
       "   Month  Quarter  WeekOfYear  Year  \n",
       "1     10        4          44  2012  \n",
       "2     10        4          44  2012  \n",
       "3     10        4          44  2012  \n",
       "4     10        4          44  2012  \n",
       "5     10        4          44  2012  "
      ]
     },
     "execution_count": 25,
     "metadata": {},
     "output_type": "execute_result"
    }
   ],
   "source": [
    "df.head()"
   ]
  },
  {
   "cell_type": "markdown",
   "id": "359cf3c3",
   "metadata": {},
   "source": [
    "### Clean and Translate tweet Text "
   ]
  },
  {
   "cell_type": "code",
   "execution_count": 26,
   "id": "66ad622b",
   "metadata": {},
   "outputs": [],
   "source": [
    "#remove hyperlink\n",
    "df['tweetText'] = df['tweetText'].apply(lambda x: re.sub(r'\\w+:\\/{2}[\\d\\w-]+(\\.[\\d\\w-]+)*(?:(?:\\/[^\\s/]*))*', '',x))"
   ]
  },
  {
   "cell_type": "code",
   "execution_count": 66,
   "id": "e4dd00de",
   "metadata": {
    "scrolled": false
   },
   "outputs": [
    {
     "name": "stderr",
     "output_type": "stream",
     "text": [
      "C:\\ProgramData\\Anaconda3\\envs\\mlt\\lib\\site-packages\\ipykernel_launcher.py:2: SettingWithCopyWarning: \n",
      "A value is trying to be set on a copy of a slice from a DataFrame\n",
      "\n",
      "See the caveats in the documentation: https://pandas.pydata.org/pandas-docs/stable/user_guide/indexing.html#returning-a-view-versus-a-copy\n",
      "  \n"
     ]
    }
   ],
   "source": [
    "translator = google_translator()\n",
    "df['tweetText'][14000:] = df['tweetText'][14000:].apply(lambda x: translator.translate(str(x),lang_tgt='en') )"
   ]
  },
  {
   "cell_type": "code",
   "execution_count": 68,
   "id": "57eb3bb0",
   "metadata": {},
   "outputs": [
    {
     "data": {
      "text/plain": [
       "14001                                            Redditor feels he's found MH370. Middle of Malacca Strait. \n",
       "14002    Hoax bro, even though there are pictures / videos ... @ SayfulL46: MH370 Found In Near Bermuda T...\n",
       "14003    I check the headlines like 20 times a day hoping to see that MH370 is found, this is the best he...\n",
       "14004                                                                           “@270512: LMFAO !!!!  found \n",
       "14005                            Missing MH370 captures found at taiwan forest by the student over there... \n",
       "                                                        ...                                                 \n",
       "14479                               @BobombDom *slaps TweetDeck with the PigFish http: \\/\\/t.co\\/pyHcJn0jwA \n",
       "14480    New Species of Fish found in Brazil or just Really good Photoshop??? What You Think? �����������...\n",
       "14481                                             What do we call this? #pigFISH http: \\/\\/t.co\\/4Bml62OD15 \n",
       "14482                              Pigfish? And after the fish is the pig fish ???? http: / t.co hqzwghydef \n",
       "14483               For those who can't decide between fish or meat.....#Pigfish http: \\/\\/t.co\\/5JBtF54cmg \n",
       "Name: tweetText, Length: 483, dtype: object"
      ]
     },
     "execution_count": 68,
     "metadata": {},
     "output_type": "execute_result"
    }
   ],
   "source": [
    "df['tweetText'][14000:]"
   ]
  },
  {
   "cell_type": "code",
   "execution_count": 67,
   "id": "e92c09c4",
   "metadata": {},
   "outputs": [
    {
     "data": {
      "text/html": [
       "<div>\n",
       "<style scoped>\n",
       "    .dataframe tbody tr th:only-of-type {\n",
       "        vertical-align: middle;\n",
       "    }\n",
       "\n",
       "    .dataframe tbody tr th {\n",
       "        vertical-align: top;\n",
       "    }\n",
       "\n",
       "    .dataframe thead th {\n",
       "        text-align: right;\n",
       "    }\n",
       "</style>\n",
       "<table border=\"1\" class=\"dataframe\">\n",
       "  <thead>\n",
       "    <tr style=\"text-align: right;\">\n",
       "      <th></th>\n",
       "      <th>tweetId</th>\n",
       "      <th>tweetText</th>\n",
       "      <th>userId</th>\n",
       "      <th>imageId(s)</th>\n",
       "      <th>username</th>\n",
       "      <th>label</th>\n",
       "      <th>DayOfMonth</th>\n",
       "      <th>DayOfYear</th>\n",
       "      <th>Month</th>\n",
       "      <th>Quarter</th>\n",
       "      <th>WeekOfYear</th>\n",
       "      <th>Year</th>\n",
       "    </tr>\n",
       "  </thead>\n",
       "  <tbody>\n",
       "    <tr>\n",
       "      <th>1</th>\n",
       "      <td>263046056240115712</td>\n",
       "      <td>Do you remember the movie: \"The day after tomorrow\"? It reminds me of what is happening with Hur...</td>\n",
       "      <td>21226711</td>\n",
       "      <td>sandyA_fake_46</td>\n",
       "      <td>iAnnieM</td>\n",
       "      <td>fake</td>\n",
       "      <td>29</td>\n",
       "      <td>303</td>\n",
       "      <td>10</td>\n",
       "      <td>4</td>\n",
       "      <td>44</td>\n",
       "      <td>2012</td>\n",
       "    </tr>\n",
       "    <tr>\n",
       "      <th>2</th>\n",
       "      <td>262995061304852481</td>\n",
       "      <td>@Milenagimon: Look at Sandy in NY! Tremendous image of the hurricane. It seems the \"Day of Indep...</td>\n",
       "      <td>192378571</td>\n",
       "      <td>sandyA_fake_09</td>\n",
       "      <td>CarlosVerareal</td>\n",
       "      <td>fake</td>\n",
       "      <td>29</td>\n",
       "      <td>303</td>\n",
       "      <td>10</td>\n",
       "      <td>4</td>\n",
       "      <td>44</td>\n",
       "      <td>2012</td>\n",
       "    </tr>\n",
       "    <tr>\n",
       "      <th>3</th>\n",
       "      <td>262979898002534400</td>\n",
       "      <td>Good Hurricane Sandy's photo, reminds me of the independence day movie # id4 #sandy</td>\n",
       "      <td>132303095</td>\n",
       "      <td>sandyA_fake_09</td>\n",
       "      <td>LucasPalape</td>\n",
       "      <td>fake</td>\n",
       "      <td>29</td>\n",
       "      <td>303</td>\n",
       "      <td>10</td>\n",
       "      <td>4</td>\n",
       "      <td>44</td>\n",
       "      <td>2012</td>\n",
       "    </tr>\n",
       "    <tr>\n",
       "      <th>4</th>\n",
       "      <td>262996108400271360</td>\n",
       "      <td>Scary Shit #Hurricane #No</td>\n",
       "      <td>241995902</td>\n",
       "      <td>sandyA_fake_29</td>\n",
       "      <td>Haaaaarryyy</td>\n",
       "      <td>fake</td>\n",
       "      <td>29</td>\n",
       "      <td>303</td>\n",
       "      <td>10</td>\n",
       "      <td>4</td>\n",
       "      <td>44</td>\n",
       "      <td>2012</td>\n",
       "    </tr>\n",
       "    <tr>\n",
       "      <th>5</th>\n",
       "      <td>263018881839411200</td>\n",
       "      <td>My fave place in the world #nyc #hurricane #sandy #statueofliberty 🗽</td>\n",
       "      <td>250315890</td>\n",
       "      <td>sandyA_fake_15</td>\n",
       "      <td>princess__natt</td>\n",
       "      <td>fake</td>\n",
       "      <td>29</td>\n",
       "      <td>303</td>\n",
       "      <td>10</td>\n",
       "      <td>4</td>\n",
       "      <td>44</td>\n",
       "      <td>2012</td>\n",
       "    </tr>\n",
       "  </tbody>\n",
       "</table>\n",
       "</div>"
      ],
      "text/plain": [
       "              tweetId  \\\n",
       "1  263046056240115712   \n",
       "2  262995061304852481   \n",
       "3  262979898002534400   \n",
       "4  262996108400271360   \n",
       "5  263018881839411200   \n",
       "\n",
       "                                                                                             tweetText  \\\n",
       "1  Do you remember the movie: \"The day after tomorrow\"? It reminds me of what is happening with Hur...   \n",
       "2  @Milenagimon: Look at Sandy in NY! Tremendous image of the hurricane. It seems the \"Day of Indep...   \n",
       "3                 Good Hurricane Sandy's photo, reminds me of the independence day movie # id4 #sandy    \n",
       "4                                                                           Scary Shit #Hurricane #No    \n",
       "5                                My fave place in the world #nyc #hurricane #sandy #statueofliberty 🗽    \n",
       "\n",
       "      userId      imageId(s)        username label  DayOfMonth  DayOfYear  \\\n",
       "1   21226711  sandyA_fake_46         iAnnieM  fake          29        303   \n",
       "2  192378571  sandyA_fake_09  CarlosVerareal  fake          29        303   \n",
       "3  132303095  sandyA_fake_09     LucasPalape  fake          29        303   \n",
       "4  241995902  sandyA_fake_29     Haaaaarryyy  fake          29        303   \n",
       "5  250315890  sandyA_fake_15  princess__natt  fake          29        303   \n",
       "\n",
       "   Month  Quarter  WeekOfYear  Year  \n",
       "1     10        4          44  2012  \n",
       "2     10        4          44  2012  \n",
       "3     10        4          44  2012  \n",
       "4     10        4          44  2012  \n",
       "5     10        4          44  2012  "
      ]
     },
     "execution_count": 67,
     "metadata": {},
     "output_type": "execute_result"
    }
   ],
   "source": [
    "df.head()"
   ]
  },
  {
   "cell_type": "code",
   "execution_count": 69,
   "id": "ed11295a",
   "metadata": {},
   "outputs": [],
   "source": [
    "df.to_csv('Translated_Training.csv')"
   ]
  },
  {
   "cell_type": "code",
   "execution_count": null,
   "id": "1478d613",
   "metadata": {},
   "outputs": [],
   "source": [
    "tr_df = pd.read_csv('Translated_Training.csv')"
   ]
  }
 ],
 "metadata": {
  "kernelspec": {
   "display_name": "Python 3",
   "language": "python",
   "name": "python3"
  },
  "language_info": {
   "codemirror_mode": {
    "name": "ipython",
    "version": 3
   },
   "file_extension": ".py",
   "mimetype": "text/x-python",
   "name": "python",
   "nbconvert_exporter": "python",
   "pygments_lexer": "ipython3",
   "version": "3.6.13"
  }
 },
 "nbformat": 4,
 "nbformat_minor": 5
}
